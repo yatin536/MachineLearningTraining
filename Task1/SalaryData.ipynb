{
 "cells": [
  {
   "cell_type": "code",
   "execution_count": 1,
   "id": "d5341686",
   "metadata": {},
   "outputs": [],
   "source": [
    "x = \"jack\""
   ]
  },
  {
   "cell_type": "code",
   "execution_count": 2,
   "id": "2536fb43",
   "metadata": {},
   "outputs": [
    {
     "data": {
      "text/plain": [
       "'jack'"
      ]
     },
     "execution_count": 2,
     "metadata": {},
     "output_type": "execute_result"
    }
   ],
   "source": [
    "x"
   ]
  },
  {
   "cell_type": "code",
   "execution_count": 3,
   "id": "4cc1bb4b",
   "metadata": {},
   "outputs": [],
   "source": [
    "x = \"krish\""
   ]
  },
  {
   "cell_type": "code",
   "execution_count": 4,
   "id": "e6ab7307",
   "metadata": {},
   "outputs": [
    {
     "data": {
      "text/plain": [
       "'krish'"
      ]
     },
     "execution_count": 4,
     "metadata": {},
     "output_type": "execute_result"
    }
   ],
   "source": [
    "x"
   ]
  },
  {
   "cell_type": "code",
   "execution_count": 5,
   "id": "b259ebb8",
   "metadata": {},
   "outputs": [],
   "source": [
    "db =  [ 1, \"vimal\" , \"ok\"  ]"
   ]
  },
  {
   "cell_type": "code",
   "execution_count": 6,
   "id": "0e896cd2",
   "metadata": {},
   "outputs": [
    {
     "data": {
      "text/plain": [
       "[1, 'vimal', 'ok']"
      ]
     },
     "execution_count": 6,
     "metadata": {},
     "output_type": "execute_result"
    }
   ],
   "source": [
    "db"
   ]
  },
  {
   "cell_type": "code",
   "execution_count": 7,
   "id": "840f4171",
   "metadata": {},
   "outputs": [
    {
     "data": {
      "text/plain": [
       "list"
      ]
     },
     "execution_count": 7,
     "metadata": {},
     "output_type": "execute_result"
    }
   ],
   "source": [
    "type(db)"
   ]
  },
  {
   "cell_type": "code",
   "execution_count": 10,
   "id": "a38224fa",
   "metadata": {},
   "outputs": [
    {
     "ename": "IndexError",
     "evalue": "list index out of range",
     "output_type": "error",
     "traceback": [
      "\u001b[1;31m---------------------------------------------------------------------------\u001b[0m",
      "\u001b[1;31mIndexError\u001b[0m                                Traceback (most recent call last)",
      "\u001b[1;32m<ipython-input-10-5404aaacc7f1>\u001b[0m in \u001b[0;36m<module>\u001b[1;34m\u001b[0m\n\u001b[1;32m----> 1\u001b[1;33m \u001b[0mdb\u001b[0m\u001b[1;33m[\u001b[0m\u001b[1;36m3\u001b[0m\u001b[1;33m]\u001b[0m\u001b[1;33m\u001b[0m\u001b[1;33m\u001b[0m\u001b[0m\n\u001b[0m",
      "\u001b[1;31mIndexError\u001b[0m: list index out of range"
     ]
    }
   ],
   "source": [
    "db[3]"
   ]
  },
  {
   "cell_type": "code",
   "execution_count": 12,
   "id": "b32cf7aa",
   "metadata": {},
   "outputs": [],
   "source": [
    "db.append(1111)"
   ]
  },
  {
   "cell_type": "code",
   "execution_count": 13,
   "id": "5a02cfdf",
   "metadata": {},
   "outputs": [
    {
     "data": {
      "text/plain": [
       "[1, 'vimal', 'ok', 1111]"
      ]
     },
     "execution_count": 13,
     "metadata": {},
     "output_type": "execute_result"
    }
   ],
   "source": [
    "db"
   ]
  },
  {
   "cell_type": "code",
   "execution_count": 16,
   "id": "16d6fbe0",
   "metadata": {},
   "outputs": [
    {
     "data": {
      "text/plain": [
       "['vimal']"
      ]
     },
     "execution_count": 16,
     "metadata": {},
     "output_type": "execute_result"
    }
   ],
   "source": [
    "# slicing op\n",
    "db[1:2]"
   ]
  },
  {
   "cell_type": "code",
   "execution_count": 17,
   "id": "34962eb5",
   "metadata": {},
   "outputs": [
    {
     "data": {
      "text/plain": [
       "['ok', 1111]"
      ]
     },
     "execution_count": 17,
     "metadata": {},
     "output_type": "execute_result"
    }
   ],
   "source": [
    "db[2:]"
   ]
  },
  {
   "cell_type": "code",
   "execution_count": 19,
   "id": "54b9ffc7",
   "metadata": {},
   "outputs": [
    {
     "data": {
      "text/plain": [
       "[1, 'vimal', 'ok']"
      ]
     },
     "execution_count": 19,
     "metadata": {},
     "output_type": "execute_result"
    }
   ],
   "source": [
    "db[:3]"
   ]
  },
  {
   "cell_type": "code",
   "execution_count": 21,
   "id": "33b09010",
   "metadata": {},
   "outputs": [
    {
     "data": {
      "text/plain": [
       "1111"
      ]
     },
     "execution_count": 21,
     "metadata": {},
     "output_type": "execute_result"
    }
   ],
   "source": [
    "db[-1]"
   ]
  },
  {
   "cell_type": "code",
   "execution_count": 23,
   "id": "e8fe8928",
   "metadata": {},
   "outputs": [
    {
     "data": {
      "text/plain": [
       "['vimal', 'ok', 1111]"
      ]
     },
     "execution_count": 23,
     "metadata": {},
     "output_type": "execute_result"
    }
   ],
   "source": [
    "db[-3:]"
   ]
  },
  {
   "cell_type": "code",
   "execution_count": 24,
   "id": "68b098e9",
   "metadata": {},
   "outputs": [],
   "source": [
    "db = [  \n",
    "    [1 , \"vimal\", 1111, \"ok\"] , \n",
    "      [ 2 , \"raj\", 2222, \"good\"] , \n",
    "      [ 3 , \"pop\", 3333, \"vgood\"] ,\n",
    "      [4 , \"rahul\", 4444, \"ok\"]\n",
    "     ]"
   ]
  },
  {
   "cell_type": "code",
   "execution_count": 25,
   "id": "c5be8f25",
   "metadata": {},
   "outputs": [
    {
     "data": {
      "text/plain": [
       "list"
      ]
     },
     "execution_count": 25,
     "metadata": {},
     "output_type": "execute_result"
    }
   ],
   "source": [
    "type(db)"
   ]
  },
  {
   "cell_type": "code",
   "execution_count": 28,
   "id": "867fd150",
   "metadata": {},
   "outputs": [
    {
     "data": {
      "text/plain": [
       "[[2, 'raj', 2222, 'good'], [3, 'pop', 3333, 'vgood'], [4, 'rahul', 4444, 'ok']]"
      ]
     },
     "execution_count": 28,
     "metadata": {},
     "output_type": "execute_result"
    }
   ],
   "source": [
    "db[1:4]"
   ]
  },
  {
   "cell_type": "code",
   "execution_count": 30,
   "id": "2dab8240",
   "metadata": {},
   "outputs": [
    {
     "data": {
      "text/plain": [
       "list"
      ]
     },
     "execution_count": 30,
     "metadata": {},
     "output_type": "execute_result"
    }
   ],
   "source": [
    "type(db[2])"
   ]
  },
  {
   "cell_type": "code",
   "execution_count": 32,
   "id": "a4d25f80",
   "metadata": {},
   "outputs": [
    {
     "data": {
      "text/plain": [
       "3333"
      ]
     },
     "execution_count": 32,
     "metadata": {},
     "output_type": "execute_result"
    }
   ],
   "source": [
    "db[2][2]"
   ]
  },
  {
   "cell_type": "code",
   "execution_count": 35,
   "id": "2adf4f6a",
   "metadata": {},
   "outputs": [
    {
     "ename": "IndexError",
     "evalue": "list index out of range",
     "output_type": "error",
     "traceback": [
      "\u001b[1;31m---------------------------------------------------------------------------\u001b[0m",
      "\u001b[1;31mIndexError\u001b[0m                                Traceback (most recent call last)",
      "\u001b[1;32m<ipython-input-35-baaa1086645c>\u001b[0m in \u001b[0;36m<module>\u001b[1;34m\u001b[0m\n\u001b[1;32m----> 1\u001b[1;33m \u001b[0mdb\u001b[0m\u001b[1;33m[\u001b[0m\u001b[1;36m2\u001b[0m\u001b[1;33m:\u001b[0m\u001b[1;36m4\u001b[0m\u001b[1;33m]\u001b[0m\u001b[1;33m[\u001b[0m\u001b[1;36m2\u001b[0m\u001b[1;33m]\u001b[0m\u001b[1;33m\u001b[0m\u001b[1;33m\u001b[0m\u001b[0m\n\u001b[0m",
      "\u001b[1;31mIndexError\u001b[0m: list index out of range"
     ]
    }
   ],
   "source": [
    "db[2:4][2]"
   ]
  },
  {
   "cell_type": "code",
   "execution_count": 44,
   "id": "a437aa85",
   "metadata": {},
   "outputs": [
    {
     "data": {
      "text/plain": [
       "[[1, 'vimal', 1111, 'ok'],\n",
       " [2, 'raj', 2222, 'good'],\n",
       " [3, 'pop', 3333, 'vgood'],\n",
       " [4, 'rahul', 4444, 'ok']]"
      ]
     },
     "execution_count": 44,
     "metadata": {},
     "output_type": "execute_result"
    }
   ],
   "source": [
    "db"
   ]
  },
  {
   "cell_type": "code",
   "execution_count": 46,
   "id": "33d57b15",
   "metadata": {},
   "outputs": [
    {
     "data": {
      "text/plain": [
       "[[1, 'vimal', 1111, 'ok'],\n",
       " [2, 'raj', 2222, 'good'],\n",
       " [3, 'pop', 3333, 'vgood'],\n",
       " [4, 'rahul', 4444, 'ok']]"
      ]
     },
     "execution_count": 46,
     "metadata": {},
     "output_type": "execute_result"
    }
   ],
   "source": [
    "db[:]"
   ]
  },
  {
   "cell_type": "code",
   "execution_count": 37,
   "id": "2e446b02",
   "metadata": {},
   "outputs": [],
   "source": [
    "import numpy"
   ]
  },
  {
   "cell_type": "code",
   "execution_count": 39,
   "id": "902b8a27",
   "metadata": {},
   "outputs": [],
   "source": [
    "a = numpy.array(db)"
   ]
  },
  {
   "cell_type": "code",
   "execution_count": 40,
   "id": "216e27d3",
   "metadata": {},
   "outputs": [
    {
     "data": {
      "text/plain": [
       "numpy.ndarray"
      ]
     },
     "execution_count": 40,
     "metadata": {},
     "output_type": "execute_result"
    }
   ],
   "source": [
    "type(a)"
   ]
  },
  {
   "cell_type": "code",
   "execution_count": 41,
   "id": "bddd3582",
   "metadata": {},
   "outputs": [
    {
     "data": {
      "text/plain": [
       "array([['1', 'vimal', '1111', 'ok'],\n",
       "       ['2', 'raj', '2222', 'good'],\n",
       "       ['3', 'pop', '3333', 'vgood'],\n",
       "       ['4', 'rahul', '4444', 'ok']], dtype='<U11')"
      ]
     },
     "execution_count": 41,
     "metadata": {},
     "output_type": "execute_result"
    }
   ],
   "source": [
    "a"
   ]
  },
  {
   "cell_type": "code",
   "execution_count": 50,
   "id": "7367fb55",
   "metadata": {},
   "outputs": [
    {
     "data": {
      "text/plain": [
       "array([['raj', '2222'],\n",
       "       ['pop', '3333']], dtype='<U11')"
      ]
     },
     "execution_count": 50,
     "metadata": {},
     "output_type": "execute_result"
    }
   ],
   "source": [
    "a[1:3 , 1:3]"
   ]
  },
  {
   "cell_type": "code",
   "execution_count": 51,
   "id": "d65698bd",
   "metadata": {},
   "outputs": [],
   "source": [
    "a1 = numpy.array([1,2,3,4,5,6,7,8])"
   ]
  },
  {
   "cell_type": "code",
   "execution_count": 52,
   "id": "34195797",
   "metadata": {},
   "outputs": [
    {
     "data": {
      "text/plain": [
       "numpy.ndarray"
      ]
     },
     "execution_count": 52,
     "metadata": {},
     "output_type": "execute_result"
    }
   ],
   "source": [
    "type(a1)"
   ]
  },
  {
   "cell_type": "code",
   "execution_count": 53,
   "id": "d7bff3a2",
   "metadata": {},
   "outputs": [
    {
     "data": {
      "text/plain": [
       "array([1, 2, 3, 4, 5, 6, 7, 8])"
      ]
     },
     "execution_count": 53,
     "metadata": {},
     "output_type": "execute_result"
    }
   ],
   "source": [
    "a1"
   ]
  },
  {
   "cell_type": "code",
   "execution_count": 54,
   "id": "fb7459d9",
   "metadata": {},
   "outputs": [
    {
     "data": {
      "text/plain": [
       "array([3, 4, 5])"
      ]
     },
     "execution_count": 54,
     "metadata": {},
     "output_type": "execute_result"
    }
   ],
   "source": [
    "a1[2:5]"
   ]
  },
  {
   "cell_type": "code",
   "execution_count": 55,
   "id": "e019508e",
   "metadata": {},
   "outputs": [
    {
     "data": {
      "text/plain": [
       "(8,)"
      ]
     },
     "execution_count": 55,
     "metadata": {},
     "output_type": "execute_result"
    }
   ],
   "source": [
    "a1.shape"
   ]
  },
  {
   "cell_type": "code",
   "execution_count": 57,
   "id": "d64e3780",
   "metadata": {},
   "outputs": [
    {
     "data": {
      "text/plain": [
       "(4, 4)"
      ]
     },
     "execution_count": 57,
     "metadata": {},
     "output_type": "execute_result"
    }
   ],
   "source": [
    "a.shape"
   ]
  },
  {
   "cell_type": "code",
   "execution_count": 59,
   "id": "9b934489",
   "metadata": {},
   "outputs": [
    {
     "data": {
      "text/plain": [
       "array([['1', 'vimal', '1111', 'ok'],\n",
       "       ['2', 'raj', '2222', 'good'],\n",
       "       ['3', 'pop', '3333', 'vgood'],\n",
       "       ['4', 'rahul', '4444', 'ok']], dtype='<U11')"
      ]
     },
     "execution_count": 59,
     "metadata": {},
     "output_type": "execute_result"
    }
   ],
   "source": [
    "a"
   ]
  },
  {
   "cell_type": "code",
   "execution_count": 60,
   "id": "5f3298d3",
   "metadata": {},
   "outputs": [
    {
     "data": {
      "text/plain": [
       "array([1, 2, 3, 4, 5, 6, 7, 8])"
      ]
     },
     "execution_count": 60,
     "metadata": {},
     "output_type": "execute_result"
    }
   ],
   "source": [
    "a1"
   ]
  },
  {
   "cell_type": "code",
   "execution_count": 63,
   "id": "3337bb63",
   "metadata": {},
   "outputs": [
    {
     "data": {
      "text/plain": [
       "(4, 2)"
      ]
     },
     "execution_count": 63,
     "metadata": {},
     "output_type": "execute_result"
    }
   ],
   "source": [
    "a1.reshape(4,2).shape"
   ]
  },
  {
   "cell_type": "code",
   "execution_count": 66,
   "id": "1f1aa5f7",
   "metadata": {},
   "outputs": [
    {
     "data": {
      "text/plain": [
       "(1, 8)"
      ]
     },
     "execution_count": 66,
     "metadata": {},
     "output_type": "execute_result"
    }
   ],
   "source": [
    "a1.reshape(1,8).shape"
   ]
  },
  {
   "cell_type": "code",
   "execution_count": 71,
   "id": "4def4772",
   "metadata": {},
   "outputs": [
    {
     "data": {
      "text/plain": [
       "(8, 1)"
      ]
     },
     "execution_count": 71,
     "metadata": {},
     "output_type": "execute_result"
    }
   ],
   "source": [
    "a1.reshape(-1,1).shape"
   ]
  },
  {
   "cell_type": "code",
   "execution_count": null,
   "id": "c9f350e5",
   "metadata": {},
   "outputs": [],
   "source": []
  }
 ],
 "metadata": {
  "kernelspec": {
   "display_name": "Python 3",
   "language": "python",
   "name": "python3"
  },
  "language_info": {
   "codemirror_mode": {
    "name": "ipython",
    "version": 3
   },
   "file_extension": ".py",
   "mimetype": "text/x-python",
   "name": "python",
   "nbconvert_exporter": "python",
   "pygments_lexer": "ipython3",
   "version": "3.8.8"
  }
 },
 "nbformat": 4,
 "nbformat_minor": 5
}
